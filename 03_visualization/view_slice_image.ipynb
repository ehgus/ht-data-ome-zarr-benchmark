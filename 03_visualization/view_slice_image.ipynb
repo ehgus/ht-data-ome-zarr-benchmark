{
 "cells": [
  {
   "cell_type": "code",
   "execution_count": null,
   "metadata": {},
   "outputs": [],
   "source": [
    "from PIL import Image\n",
    "import dask.array as da\n",
    "from matplotlib import colormaps as cm\n",
    "import os"
   ]
  },
  {
   "cell_type": "code",
   "execution_count": null,
   "metadata": {},
   "outputs": [],
   "source": [
    "\"\"\"\n",
    "bacteroa shape (t,c,z,y,x): [73, 1, 66, 3796, 3796],\n",
    "hela cell shape (t,c,z,y,x): [73, 1, 66, 3796, 3796],\n",
    "organoid shape (t,c,z,y,x): [289, 1, 138, 1838, 1838],\n",
    "embryo shape (t,c,z,y,x): [161, 1, 116, 6440, 6440],\n",
    "tissue shape (t,c,z,y,x): [1, 9, 80, 10807, 9890],\n",
    "\"\"\"\n",
    "\n",
    "dataset_path = {\n",
    "    'bacteria': '../data/bacteria.ome.zarr/0',\n",
    "    'hela': '../data/hela.ome.zarr/0',\n",
    "    'organoid': '../data/organoid.ome.zarr/0',\n",
    "    'embryo': '../data/embryo.ome.zarr/0',\n",
    "    'tissue-on': '../data/birefringent-data.ome.zarr/0',\n",
    "    'tissue-off': '../data/birefringent-data.ome.zarr/0'\n",
    "}\n",
    "tcz_slice_axis = [(0, 0, 31), (36, 0, 32), (144, 0, 10), (80, 0, 55), (0, 0, 40), (0, 1, 40)]\n",
    "xy_crop_regions = [((None, None), (None, None)), ((None, None), (None, None)), ((None, None), (None, None)), ((5,-5),(5,-5)), ((540,-540),(200,-200)), ((540,-540),(200,-200))]\n",
    "cranges = [(1.33, 1.39), (1.33, 1.39), (1.33, 1.38), (1.33, 1.36), (1.48,1.52), (-0.001,0.001)]\n",
    "cmap_list = ['gray', 'gray', 'gray', 'gray', 'gray', 'PiYG']"
   ]
  },
  {
   "cell_type": "code",
   "execution_count": null,
   "metadata": {},
   "outputs": [],
   "source": [
    "def array_to_img(image,cmap_name,vmin,vmax):\n",
    "    norm_img = (image-vmin)/(vmax-vmin)\n",
    "    color_img = cm.get_cmap(cmap_name)(norm_img)\n",
    "    color_img = color_img[:,:,:-1]*255\n",
    "    return Image.fromarray(color_img.astype('u1'), mode='RGB')"
   ]
  },
  {
   "cell_type": "code",
   "execution_count": null,
   "metadata": {},
   "outputs": [],
   "source": [
    "for (data_key,data_path), (t,c,z), (y_crop, x_crop), crange, cmap_name in zip(dataset_path.items(), tcz_slice_axis, xy_crop_regions, cranges, cmap_list):\n",
    "    data = da.from_zarr(data_path, mode='r')[t,c,:,slice(*y_crop),slice(*x_crop)]\n",
    "    slice_dataset = {\n",
    "        'zupper-slice': data[0,:,:],\n",
    "        'zmiddle-slice': data[z,:,:],\n",
    "        'zlower-slice': data[-1,:,:],\n",
    "        'yupper-slice': data[:,0,:],\n",
    "        'ymiddle-slice': data[:,data.shape[-2]//2,:],\n",
    "        'ylower-slice': data[:,-1,:],\n",
    "        'xupper-slice': data[:,:,0],\n",
    "        'xmiddle-slice': data[:,:,data.shape[-1]//2],\n",
    "        'xlower-slice': data[:,:,-1],\n",
    "    }\n",
    "    for slice_key, slice_data in slice_dataset.items():\n",
    "        save_path = f'../figure/slice-image/{data_key}-{slice_key}.png'\n",
    "        if os.path.exists(save_path):\n",
    "            continue\n",
    "        result = array_to_img(slice_data.compute(), cmap_name, *crange)\n",
    "        result.save(save_path)"
   ]
  }
 ],
 "metadata": {
  "kernelspec": {
   "display_name": "12-code (3.12.9)",
   "language": "python",
   "name": "python3"
  },
  "language_info": {
   "codemirror_mode": {
    "name": "ipython",
    "version": 3
   },
   "file_extension": ".py",
   "mimetype": "text/x-python",
   "name": "python",
   "nbconvert_exporter": "python",
   "pygments_lexer": "ipython3",
   "version": "3.12.9"
  }
 },
 "nbformat": 4,
 "nbformat_minor": 2
}
