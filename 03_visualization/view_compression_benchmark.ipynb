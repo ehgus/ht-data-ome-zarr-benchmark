{
 "cells": [
  {
   "cell_type": "code",
   "execution_count": null,
   "metadata": {},
   "outputs": [],
   "source": [
    "import pandas as pd\n",
    "import matplotlib.pyplot as plt\n",
    "import numpy as np\n",
    "from matplotlib import colormaps as cm"
   ]
  },
  {
   "cell_type": "code",
   "execution_count": null,
   "metadata": {},
   "outputs": [],
   "source": [
    "# benchmark path\n",
    "benchmark_path = {\n",
    "    'bacteria':'../output/merged-bacteria-8G.csv',\n",
    "    'HeLa':'../output/merged-HeLa-8G.csv',\n",
    "    'embryo':'../output/merged-embryo-8G.csv',\n",
    "    'organoid':'../output/merged-organoid-8G.csv',\n",
    "    'tissue-on':'../output/merged-tissue-on-8G.csv',\n",
    "    'tissue-off':'../output/merged-tissue-off-8G.csv',\n",
    "}\n",
    "# expressions\n",
    "compression_options = {\n",
    "    'gzip': (1,5,9),\n",
    "    'zlib': (1,5,9),\n",
    "    'bzip2': (1,5,9),\n",
    "    'lzma': (1,5,9),\n",
    "    'lz4': (1,),\n",
    "    'Snappy': (0,),\n",
    "    'zstd': (1,11,22),\n",
    "    'PCodec': (0, 6, 12),\n",
    "    'blosc-zlib': (1,5,9),\n",
    "    'blosc-lz4': (1,5,9),\n",
    "    'blosc-zstd': (1,5,9),\n",
    "    'LOSSLESS_ZFP': (0,),\n",
    "    'LOSSY_ZFP': (0,),\n",
    "}\n",
    "filter_options = ['none', 'Shuffle', 'BitRound-14', 'BitRound-14-Shuffle']\n"
   ]
  },
  {
   "cell_type": "markdown",
   "metadata": {},
   "source": [
    "###  Load data"
   ]
  },
  {
   "cell_type": "code",
   "execution_count": null,
   "metadata": {},
   "outputs": [],
   "source": [
    "benchmark_table = dict()\n",
    "for name, path in benchmark_path.items():\n",
    "    df = pd.read_csv(path)\n",
    "    benchmark_table[name] = df"
   ]
  },
  {
   "cell_type": "markdown",
   "metadata": {},
   "source": [
    "### Visualization 1: overall\n",
    "\n",
    "Show benchmark results for each dataset and benchamrk parameter"
   ]
  },
  {
   "cell_type": "code",
   "execution_count": null,
   "metadata": {},
   "outputs": [],
   "source": [
    "filter_display_colors = {\n",
    "    'none': [(31/255, 120/255, 180/255), (99/255, 163/255, 204/255), (166/255, 206/255, 227/255)], # blue\n",
    "    'Shuffle': [(51/255, 160/255, 44/255), (115/255, 192/255, 91/255), (178/255, 223/255, 138/255)], # Green\n",
    "    'BitRound-14': [(227/255, 26/255, 28/255), (239/255, 90/255, 91/255), (251/255, 154/255, 153/255)], # Red\n",
    "    'BitRound-14-Shuffle': [(255/255, 127/255, 0/255), (254/255, 159/255, 56/255), (253/255, 191/255, 111/255)], # Orange\n",
    "}"
   ]
  },
  {
   "cell_type": "code",
   "execution_count": null,
   "metadata": {},
   "outputs": [],
   "source": [
    "kwargs_list = dict()\n",
    "for sample_name in ['bacteria', 'HeLa', 'embryo', 'organoid', 'tissue-on', 'tissue-off']:\n",
    "    kwargs_list[sample_name] = {\n",
    "        'compression ratio': {\n",
    "            'ylim':(1,8),\n",
    "            'yscale':'linear',\n",
    "        },\n",
    "        'compression speed (bytes/sec)': {\n",
    "            'ylim':(10**7.5,10**10),\n",
    "            'yscale':'log',\n",
    "        },\n",
    "        'decompression speed (bytes/sec)': {\n",
    "            'ylim':(10**7,10**9.5),\n",
    "            'yscale':'log',\n",
    "        },\n",
    "    }\n",
    "\n",
    "kwargs_list['organoid']['compression ratio']['ylim'] = (1, 10)\n",
    "kwargs_list['tissue-off']['compression ratio']['ylim'] = (1, 2)\n"
   ]
  },
  {
   "cell_type": "code",
   "execution_count": null,
   "metadata": {},
   "outputs": [],
   "source": [
    "def view_compression_ratio(save_path, df, compression_options, filter_options, filter_display_colors, **kwargs):\n",
    "    fig, ax = plt.subplots()\n",
    "    ax.set(**kwargs)\n",
    "    x = np.zeros(len(filter_options))\n",
    "    tick_loc = []\n",
    "    tick_label = []\n",
    "    for comp_name, comp_degree in compression_options.items():\n",
    "        for d_idx, deg in enumerate(comp_degree):\n",
    "            comp_opt = f'{comp_name}-{deg}'\n",
    "            sub_df = df.loc[comp_opt]\n",
    "            avail_f_opt = [f for f in filter_options if f in sub_df.index.tolist()]\n",
    "            y = (sub_df\n",
    "                 .loc[avail_f_opt]\n",
    "                 .sort_values(ascending=False)\n",
    "            )\n",
    "            c = [filter_display_colors[filt_name][d_idx] for filt_name in y.index]\n",
    "            ax.bar(x[0:len(y)], y, color=c)\n",
    "            tick_loc.append(x[0])\n",
    "            tick_label.append(comp_opt)\n",
    "            x += 1\n",
    "        x += 1\n",
    "    ax.set_xticks(tick_loc, tick_label, rotation=90)\n",
    "    ax.set_xlim(-1, tick_loc[-1] + 1)\n",
    "    fig.savefig(save_path)\n"
   ]
  },
  {
   "cell_type": "code",
   "execution_count": null,
   "metadata": {},
   "outputs": [],
   "source": [
    "def view_throughput(save_path, df, compression_options, filter_options, filter_display_colors, **kwargs):\n",
    "    fig, ax = plt.subplots()\n",
    "    ax.set(**kwargs)\n",
    "    x = np.zeros(len(filter_options))\n",
    "    tick_loc = []\n",
    "    tick_label = []\n",
    "    for comp_name, comp_degree in compression_options.items():\n",
    "        for d_idx, deg in enumerate(comp_degree):\n",
    "            comp_opt = f'{comp_name}-{deg}'\n",
    "            sub_df = df.loc[comp_opt]\n",
    "            avail_f_opt = [f for f in filter_options if f in sub_df.index.tolist()]\n",
    "            avail_f_opt = [avail_f_opt[0]]\n",
    "            y = (sub_df\n",
    "                 .loc[avail_f_opt]\n",
    "                 .sort_values(ascending=False)\n",
    "            )\n",
    "            c = [filter_display_colors[filt_name][d_idx] for filt_name in y.index]\n",
    "            ax.bar(x[0:len(y)], y, color=c)\n",
    "        tick_loc.append(x[0])\n",
    "        tick_label.append(comp_name)\n",
    "        x += 1\n",
    "    ax.set_xticks(tick_loc, tick_label, rotation=90)\n",
    "    ax.set_xlim(-1, tick_loc[-1] + 1)\n",
    "    fig.savefig(save_path)\n"
   ]
  },
  {
   "cell_type": "code",
   "execution_count": null,
   "metadata": {},
   "outputs": [],
   "source": [
    "for name, df in benchmark_table.items():\n",
    "    grp_df = (df\n",
    "        .groupby(['compression option', 'filter option'])\n",
    "        .mean()\n",
    "    )\n",
    "    # ploat compression ratio\n",
    "    bench_param = 'compression ratio'\n",
    "    bench_filter_options = ['none', 'Shuffle', 'BitRound-14', 'BitRound-14-Shuffle']\n",
    "    kwargs = kwargs_list[name][bench_param]\n",
    "    srs = grp_df.loc[:,bench_param]\n",
    "    save_path = f'../figure/view-bench-1-overall/{name}-{bench_param.split(\"(\")[0].strip()}.svg'\n",
    "    view_compression_ratio(save_path, srs, compression_options, bench_filter_options, filter_display_colors, **kwargs)\n",
    "\n",
    "    # plot throughput\n",
    "    for bench_param in ['compression speed (bytes/sec)', 'decompression speed (bytes/sec)']:\n",
    "        bench_filter_options = ['Shuffle', 'none']\n",
    "        kwargs = kwargs_list[name][bench_param]\n",
    "        srs = grp_df.loc[:,bench_param]\n",
    "        save_path = f'../figure/view-bench-1-overall/{name}-{bench_param.split('(')[0].strip()}.svg'\n",
    "        view_throughput(save_path, srs, compression_options, bench_filter_options, filter_display_colors, **kwargs)"
   ]
  },
  {
   "cell_type": "markdown",
   "metadata": {},
   "source": [
    "### Table 1: relative performance to Gzip"
   ]
  },
  {
   "cell_type": "code",
   "execution_count": null,
   "metadata": {},
   "outputs": [],
   "source": [
    "for name, df in benchmark_table.items():\n",
    "    perf_df = df.copy()\n",
    "    perf_df['compressor type'] = df['compression option'].map(lambda x: x.rsplit('-',1)[0])\n",
    "    perf_df.pop('compression option')\n",
    "    grp_df = (perf_df\n",
    "        .groupby(['compressor type', 'filter option'])\n",
    "        .mean()\n",
    "    )\n",
    "    for filt in filter_options:\n",
    "        ref_bench = grp_df.loc[('gzip',filt)]\n",
    "        grp_df.loc[[(comp, filt) for comp in compression_options]] /= ref_bench\n",
    "    save_path = f'../figure/table-1-relative-bench/{name}.csv'\n",
    "    grp_df.to_csv(save_path)"
   ]
  },
  {
   "cell_type": "markdown",
   "metadata": {},
   "source": [
    "### Visualization 2: two-axis plot\n",
    "\n",
    "Show benchmark results for each dataset, two-benchmark parameter w/ pure comprssion data"
   ]
  },
  {
   "cell_type": "code",
   "execution_count": null,
   "metadata": {},
   "outputs": [],
   "source": [
    "comp_idx = ['gzip','lzma','bzip2','zlib','lz4','zstd','blosc-zlib','blosc-lz4','blosc-zstd']\n",
    "compression_display_markers = pd.DataFrame(data={\n",
    "        'marker': ['o','o','o','o','^','s','p','p','p'],\n",
    "        'markerfacecolor':[(0,0,0),(1/3,1/3,1/3),(2/3,2/3,2/3),(1,1,1),(0,0,0),(0,0,0),(0,0,0),(1/2,1/2,1/2),(1,1,1)],\n",
    "        'markeredgecolor':[(0,0,0) for _ in range(len(comp_idx))],\n",
    "        'linestyle':[':' for _ in range(len(comp_idx))],\n",
    "        'color':[(0,0,0) for _ in range(len(comp_idx))],\n",
    "    },\n",
    "    index=comp_idx\n",
    ")"
   ]
  },
  {
   "cell_type": "code",
   "execution_count": null,
   "metadata": {},
   "outputs": [],
   "source": [
    "def view_data2(save_path, df, compression_options, compression_display_markers,**kwargs):\n",
    "    fig, ax = plt.subplots()\n",
    "    ax.set(**kwargs)\n",
    "    for comp_name, comp_opt in compression_options.items():\n",
    "        idx_name_list = [(f'{comp_name}-{o}','Shuffle') for o in comp_opt]\n",
    "        col_names = df.columns\n",
    "        x = df.loc[idx_name_list,col_names[0]]\n",
    "        y = df.loc[idx_name_list,col_names[1]]\n",
    "        ax.plot(x,y,**dict(compression_display_markers.loc[comp_name]))\n",
    "    fig.savefig(save_path)"
   ]
  },
  {
   "cell_type": "code",
   "execution_count": null,
   "metadata": {},
   "outputs": [],
   "source": [
    "for name, df in benchmark_table.items():\n",
    "    grp_df = (df\n",
    "        .groupby(['compression option', 'filter option'])\n",
    "        .mean()\n",
    "    )\n",
    "    for bench_params, xyscale in zip(\n",
    "            [('compression speed (bytes/sec)', 'compression ratio'),('decompression speed (bytes/sec)', 'compression ratio')],\n",
    "            [('log','linear'),('log','linear')]\n",
    "        ):\n",
    "        save_path = f'../figure/view-bench-2-two-axis/{name}-{'-'.join([p.split('(')[0].strip() for p in bench_params])}.svg'\n",
    "        sub_df = grp_df.loc[:,bench_params]\n",
    "        view_data2(save_path, sub_df, compression_options, compression_display_markers,\n",
    "                   xscale = xyscale[0], yscale = xyscale[1])"
   ]
  },
  {
   "cell_type": "markdown",
   "metadata": {},
   "source": [
    "### Visualization 3\n",
    "\n",
    "Show compression improvement for each filter"
   ]
  },
  {
   "cell_type": "code",
   "execution_count": null,
   "metadata": {},
   "outputs": [],
   "source": [
    "def view_data3(save_path, bench_by_filter, **kwargs):\n",
    "    fig, ax = plt.subplots()\n",
    "    ax.set(**kwargs)\n",
    "    bplot = ax.boxplot(\n",
    "        bench_by_filter.values(),\n",
    "        tick_labels=bench_by_filter.keys()\n",
    "    )\n",
    "    print({k:v.median() for k,v in bench_by_filter.items()})\n",
    "    fig.savefig(save_path)"
   ]
  },
  {
   "cell_type": "code",
   "execution_count": null,
   "metadata": {},
   "outputs": [],
   "source": [
    "for name, df in benchmark_table.items():\n",
    "    bench_by_filter = {\n",
    "        filt_name:df[(df['filter option'] == filt_name) & (df['compression option'] != 'none')] for filt_name in filter_options\n",
    "    }\n",
    "    bench_param = 'compression ratio'\n",
    "    kwargs = kwargs_list[name][bench_param]\n",
    "    save_path = f'../figure/view-bench-3-filter/{name}-{bench_param.split(\"(\")[0].strip()}.svg'\n",
    "    sub_bench_by_filter = {\n",
    "        filt_name:df[bench_param] for filt_name, df in bench_by_filter.items()\n",
    "    }\n",
    "    view_data3(save_path, sub_bench_by_filter, **kwargs)\n",
    "    # for bench_param in ['compression ratio', 'compression speed (bytes/sec)', 'decompression speed (bytes/sec)']:\n",
    "    #     kwargs = kwargs_list[name][bench_param]\n",
    "    #     save_path = f'../figure/view-bench-3-filter/{name}-{bench_param.split('(')[0].strip()}.svg'\n",
    "    #     sub_bench_by_filter = {\n",
    "    #         filt_name:df[bench_param] for filt_name, df in bench_by_filter.items()\n",
    "    #     }\n",
    "    #     view_data3(save_path, sub_bench_by_filter, **kwargs)\n",
    "    "
   ]
  },
  {
   "cell_type": "markdown",
   "metadata": {},
   "source": [
    "### Visualization 4: bar plot for w/ filters"
   ]
  },
  {
   "cell_type": "code",
   "execution_count": null,
   "metadata": {},
   "outputs": [],
   "source": [
    "kwargs_list = {\n",
    "    'embryo':{\n",
    "        'compression ratio': {\n",
    "            'ylim':(1,6),\n",
    "            'yscale':'linear',\n",
    "        },\n",
    "        'compression speed (bytes/sec)': {\n",
    "            'ylim':(10**7.5,10**9.5),\n",
    "            'yscale':'log',\n",
    "        },\n",
    "        'decompression speed (bytes/sec)': {\n",
    "            'ylim':(10**7,10**9.5),\n",
    "            'yscale':'log',\n",
    "        },\n",
    "    },\n",
    "    'tissue-on':{\n",
    "        'compression ratio': {\n",
    "            'ylim':(1,6),\n",
    "            'yscale':'linear',\n",
    "        },\n",
    "        'compression speed (bytes/sec)': {\n",
    "            'ylim':(10**7.5,10**9.5),\n",
    "            'yscale':'log',\n",
    "        },\n",
    "        'decompression speed (bytes/sec)': {\n",
    "            'ylim':(10**7,10**9.5),\n",
    "            'yscale':'log',\n",
    "        },\n",
    "    },\n",
    "    'tissue-off':{\n",
    "        'compression ratio': {\n",
    "            'ylim':(1,2),\n",
    "            'yscale':'linear',\n",
    "        },\n",
    "        'compression speed (bytes/sec)': {\n",
    "            'ylim':(10**7.5,10**9.5),\n",
    "            'yscale':'log',\n",
    "        },\n",
    "        'decompression speed (bytes/sec)': {\n",
    "            'ylim':(10**7,10**9.5),\n",
    "            'yscale':'log',\n",
    "        },\n",
    "    }\n",
    "}"
   ]
  },
  {
   "cell_type": "code",
   "execution_count": null,
   "metadata": {},
   "outputs": [],
   "source": [
    "def view_data4(save_path, df, compression_options, filter_options, filter_display_colors, **kwargs):\n",
    "    fig, ax = plt.subplots()\n",
    "    ax.set(**kwargs)\n",
    "    x = 0\n",
    "    tick_loc = []\n",
    "    tick_label = []\n",
    "    \n",
    "    for comp_name, comp_degree in compression_options.items():\n",
    "        for filt in filter_options:\n",
    "            comp_opt = [f'{comp_name}-{deg}' for deg in comp_degree]\n",
    "            y = (df\n",
    "                 .loc[filt]\n",
    "                 .loc[comp_opt]\n",
    "                 .sort_values(ascending=False)\n",
    "            )\n",
    "            sorted_comp_deg = list(map(lambda c_opt: int(c_opt.rsplit('-',1)[-1]), y.index))\n",
    "            c_indices = np.argsort(sorted_comp_deg)\n",
    "            c = [filter_display_colors[filt][c_idx] for c_idx in c_indices]\n",
    "            ax.bar([x for _ in range(len(c))], y, color=c)\n",
    "            tick_loc.append(x)\n",
    "            tick_label.append(f'{comp_name}-{filt}')\n",
    "            x += 1\n",
    "        x += 1\n",
    "    ax.set_xticks(tick_loc, tick_label, rotation=90)\n",
    "    ax.set_xlim(-1, tick_loc[-1] + 1)\n",
    "    fig.savefig(save_path)\n"
   ]
  },
  {
   "cell_type": "code",
   "execution_count": null,
   "metadata": {},
   "outputs": [],
   "source": [
    "for name, df in benchmark_table.items():\n",
    "    grp_df = (df\n",
    "        .groupby(['filter option', 'compression option'])\n",
    "        .mean()\n",
    "    )\n",
    "    for bench_param, bench_filter_options in zip(\n",
    "            ['compression ratio', 'compression speed (bytes/sec)', 'decompression speed (bytes/sec)'],\n",
    "            [filter_options, filter_options, filter_options]):\n",
    "        kwargs = kwargs_list[name][bench_param]\n",
    "        srs = grp_df.loc[:,bench_param]\n",
    "        save_path = f'../figure/view-bench-4-filter-bar/{name}-{bench_param.split('(')[0].strip()}.svg'\n",
    "        view_data4(save_path, srs, compression_options, bench_filter_options, filter_display_colors, **kwargs)"
   ]
  },
  {
   "cell_type": "markdown",
   "metadata": {},
   "source": [
    "### visualzation 5: bottleneck graph"
   ]
  },
  {
   "cell_type": "code",
   "execution_count": null,
   "metadata": {},
   "outputs": [],
   "source": [
    "def cm_map(v):\n",
    "    true_color = cm['PiYG'](v)[:-1]\n",
    "    return np.array([c * 0.8 for c in true_color])"
   ]
  },
  {
   "cell_type": "code",
   "execution_count": null,
   "metadata": {},
   "outputs": [],
   "source": [
    "def bottleneck(comp_ratio, comp_speed, decomp_speed, transfer_rate = 2**7): # 1Gbps = 128MB/s\n",
    "    return min(comp_ratio*transfer_rate, comp_speed, decomp_speed) # higher the value, better the performance"
   ]
  },
  {
   "cell_type": "code",
   "execution_count": null,
   "metadata": {},
   "outputs": [],
   "source": [
    "def view_data5(save_path, rank_df, **kwargs):\n",
    "    fig, ax = plt.subplots()\n",
    "    ax.set(**kwargs)\n",
    "    # get tested transfer rate\n",
    "    base_transfer_rate_list = [int(idx.rsplit('-',1)[-1]) for idx in rank_df.columns if idx.startswith('rank')]\n",
    "    base_transfer_rate_list.sort()\n",
    "    x_transfer_rate = [2**bt for bt in base_transfer_rate_list]\n",
    "    column_idx = [f'rank-{t}' for t in base_transfer_rate_list]\n",
    "    x_min_text = 2**(base_transfer_rate_list[0]-1)\n",
    "    x_max_text = 2**(base_transfer_rate_list[-1]+1)\n",
    "    # calculate compression_options_color from last rank result of rank_df\n",
    "    comp_option_names = rank_df.index.tolist()\n",
    "    last_ranks = rank_df.iloc[:,-1]\n",
    "    compression_options_color = {\n",
    "        n: cm_map(r/(len(last_ranks)-1)) for n, r in zip(comp_option_names, last_ranks)\n",
    "    }\n",
    "    # draw graph\n",
    "    for comp_opt,c in compression_options_color.items():\n",
    "        y_rank = rank_df.loc[comp_opt,column_idx]\n",
    "        ax.plot(x_transfer_rate, y_rank, color=c,marker='o')\n",
    "        # insert text\n",
    "        ax.text(x_min_text, y_rank[f'rank-{base_transfer_rate_list[0]}'], comp_opt, ha = 'right')\n",
    "        ax.text(x_max_text, y_rank[f'rank-{base_transfer_rate_list[-1]}'], comp_opt)\n",
    "    fig.savefig(save_path)"
   ]
  },
  {
   "cell_type": "code",
   "execution_count": null,
   "metadata": {},
   "outputs": [],
   "source": [
    "concat_df = pd.concat(list(benchmark_table.values()),axis=0,join='outer')\n",
    "# remove 'compression option' == 'none' case\n",
    "concat_df = concat_df[concat_df['compression option'] != 'none']\n",
    "# remove 'BitRound' used cases\n",
    "concat_df = concat_df[concat_df['filter option'].map(lambda x: not x.startswith('BitRound'))]\n",
    "# remove nvcomp and zlibng used cases\n",
    "concat_df = concat_df[concat_df['compression option'].map(lambda x: not x.startswith('Nvcomp'))]\n",
    "concat_df = concat_df[concat_df['compression option'].map(lambda x: not x.startswith('Zlibng'))]\n",
    "# If shuffle is used, then use it as the filter option or none\n",
    "concat_df_none_only = concat_df[concat_df['compression option'].map(lambda x: ('PCodec' in x) or ('ZFP' in x))]\n",
    "concat_df_shuffle_only = concat_df[concat_df['filter option'].map(lambda x: x == 'Shuffle')]\n",
    "filter_df = pd.concat([concat_df_none_only, concat_df_shuffle_only], axis=0, join='outer')\n",
    "\n",
    "# evaluate rank based on the bottleneck measurement\n",
    "filter_df.pop('filter option')\n",
    "rank_df = (filter_df\n",
    "    .groupby(['compression option'])\n",
    "    .mean()\n",
    ")\n",
    "\n",
    "# \n",
    "base_transfer_rate_range = range(18,36,3)\n",
    "for base_transfer_rate in base_transfer_rate_range: # unit MB/s: #0.1Gps , 1Gbps (128MB/s), 10Gbps (1GB/s), 100GB/s\n",
    "    transfer_rate = 2**base_transfer_rate\n",
    "    rank = (rank_df\n",
    "        .apply(lambda x: bottleneck(x['compression ratio'],x['compression speed (bytes/sec)'],x['decompression speed (bytes/sec)'],transfer_rate=transfer_rate),axis=1)\n",
    "        .sort_values()\n",
    "    )\n",
    "    rank_df.loc[rank.index, f'rank-{base_transfer_rate}'] = np.arange(len(rank))\n",
    "save_path = f'../figure/view-bench-5-bottlneck/ranking.svg'\n",
    "view_data5(save_path, rank_df, xscale = 'log')\n",
    "# Check all-rounder\n",
    "rank = (rank_df[[f'rank-{t}' for t in base_transfer_rate_range]]\n",
    "    .apply(min, axis=1))\n",
    "print(rank.sort_values(ascending=False)[:7])\n"
   ]
  },
  {
   "cell_type": "code",
   "execution_count": null,
   "metadata": {},
   "outputs": [],
   "source": []
  }
 ],
 "metadata": {
  "kernelspec": {
   "display_name": "12-code (3.12.9)",
   "language": "python",
   "name": "python3"
  },
  "language_info": {
   "codemirror_mode": {
    "name": "ipython",
    "version": 3
   },
   "file_extension": ".py",
   "mimetype": "text/x-python",
   "name": "python",
   "nbconvert_exporter": "python",
   "pygments_lexer": "ipython3",
   "version": "3.12.9"
  }
 },
 "nbformat": 4,
 "nbformat_minor": 2
}
