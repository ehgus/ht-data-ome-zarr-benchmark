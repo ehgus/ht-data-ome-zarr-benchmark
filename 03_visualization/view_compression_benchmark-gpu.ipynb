{
 "cells": [
  {
   "cell_type": "code",
   "execution_count": null,
   "metadata": {},
   "outputs": [],
   "source": [
    "import pandas as pd\n",
    "import matplotlib.pyplot as plt\n",
    "import numpy as np\n",
    "from matplotlib import colormaps as cm"
   ]
  },
  {
   "cell_type": "code",
   "execution_count": null,
   "metadata": {},
   "outputs": [],
   "source": [
    "# benchmark path\n",
    "benchmark_path = {\n",
    "    'bacteria':'../output/merged-bacteria-8G.csv',\n",
    "    'HeLa':'../output/merged-HeLa-8G.csv',\n",
    "    'embryo':'../output/merged-embryo-8G.csv',\n",
    "    'organoid':'../output/merged-organoid-8G.csv',\n",
    "    'tissue-on':'../output/merged-tissue-on-8G.csv',\n",
    "    'tissue-off':'../output/merged-tissue-off-8G.csv',\n",
    "}\n",
    "# expressions\n",
    "compression_options = {\n",
    "    'zlib': (1,5,9),\n",
    "    'NvcompGDeflate': (1,3,5),\n",
    "    'lz4': (1,),\n",
    "    'NvcompLZ4': (0,),\n",
    "}\n",
    "filter_options = ['none', 'Shuffle', 'BitRound-14', 'BitRound-14-Shuffle']\n"
   ]
  },
  {
   "cell_type": "code",
   "execution_count": null,
   "metadata": {},
   "outputs": [],
   "source": [
    "compression_options.keys()"
   ]
  },
  {
   "cell_type": "markdown",
   "metadata": {},
   "source": [
    "###  Load data"
   ]
  },
  {
   "cell_type": "code",
   "execution_count": null,
   "metadata": {},
   "outputs": [],
   "source": [
    "benchmark_table = dict()\n",
    "for name, path in benchmark_path.items():\n",
    "    df = pd.read_csv(path)\n",
    "    df = df[df['compression option'].map(lambda x: x.split('-')[0] in compression_options.keys())]\n",
    "    benchmark_table[name] = df"
   ]
  },
  {
   "cell_type": "markdown",
   "metadata": {},
   "source": [
    "### Visualization 1: overall\n",
    "\n",
    "Show benchmark results for each dataset and benchamrk parameter"
   ]
  },
  {
   "cell_type": "code",
   "execution_count": null,
   "metadata": {},
   "outputs": [],
   "source": [
    "filter_display_colors = {\n",
    "    'none': [(31/255, 120/255, 180/255), (99/255, 163/255, 204/255), (166/255, 206/255, 227/255)], # blue\n",
    "    'Shuffle': [(51/255, 160/255, 44/255), (115/255, 192/255, 91/255), (178/255, 223/255, 138/255)], # Green\n",
    "    'BitRound-14': [(227/255, 26/255, 28/255), (239/255, 90/255, 91/255), (251/255, 154/255, 153/255)], # Red\n",
    "    'BitRound-14-Shuffle': [(255/255, 127/255, 0/255), (254/255, 159/255, 56/255), (253/255, 191/255, 111/255)], # Orange\n",
    "}"
   ]
  },
  {
   "cell_type": "code",
   "execution_count": null,
   "metadata": {},
   "outputs": [],
   "source": [
    "kwargs_list = dict()\n",
    "for sample_name in ['bacteria', 'HeLa', 'embryo', 'organoid', 'tissue-on', 'tissue-off']:\n",
    "    kwargs_list[sample_name] = {\n",
    "        'compression ratio': {\n",
    "            'ylim':(1,8),\n",
    "            'yscale':'linear',\n",
    "        },\n",
    "        'compression speed (bytes/sec)': {\n",
    "            'ylim':(10**7.5,10**10),\n",
    "            'yscale':'log',\n",
    "        },\n",
    "        'decompression speed (bytes/sec)': {\n",
    "            'ylim':(10**7,10**9.5),\n",
    "            'yscale':'log',\n",
    "        },\n",
    "    }\n",
    "\n",
    "kwargs_list['organoid']['compression ratio']['ylim'] = (1, 10)\n",
    "kwargs_list['tissue-off']['compression ratio']['ylim'] = (1, 2)\n"
   ]
  },
  {
   "cell_type": "code",
   "execution_count": null,
   "metadata": {},
   "outputs": [],
   "source": [
    "def view_compression_ratio(save_path, df, compression_options, filter_options, filter_display_colors, **kwargs):\n",
    "    fig, ax = plt.subplots()\n",
    "    ax.set(**kwargs)\n",
    "    x = np.zeros(len(filter_options))\n",
    "    tick_loc = []\n",
    "    tick_label = []\n",
    "    for comp_name, comp_degree in compression_options.items():\n",
    "        for d_idx, deg in enumerate(comp_degree):\n",
    "            comp_opt = f'{comp_name}-{deg}'\n",
    "            sub_df = df.loc[comp_opt]\n",
    "            avail_f_opt = [f for f in filter_options if f in sub_df.index.tolist()]\n",
    "            y = (sub_df\n",
    "                 .loc[avail_f_opt]\n",
    "                 .sort_values(ascending=False)\n",
    "            )\n",
    "            c = [filter_display_colors[filt_name][d_idx] for filt_name in y.index]\n",
    "            ax.bar(x[0:len(y)], y, color=c)\n",
    "            tick_loc.append(x[0])\n",
    "            tick_label.append(comp_opt)\n",
    "            x += 1\n",
    "        x += 1\n",
    "    ax.set_xticks(tick_loc, tick_label, rotation=90)\n",
    "    ax.set_xlim(-1, tick_loc[-1] + 1)\n",
    "    fig.savefig(save_path)\n"
   ]
  },
  {
   "cell_type": "code",
   "execution_count": null,
   "metadata": {},
   "outputs": [],
   "source": [
    "def view_throughput(save_path, df, compression_options, filter_options, filter_display_colors, **kwargs):\n",
    "    fig, ax = plt.subplots()\n",
    "    ax.set(**kwargs)\n",
    "    x = np.zeros(len(filter_options))\n",
    "    tick_loc = []\n",
    "    tick_label = []\n",
    "    for comp_name, comp_degree in compression_options.items():\n",
    "        for d_idx, deg in enumerate(comp_degree):\n",
    "            comp_opt = f'{comp_name}-{deg}'\n",
    "            sub_df = df.loc[comp_opt]\n",
    "            avail_f_opt = [f for f in filter_options if f in sub_df.index.tolist()]\n",
    "            avail_f_opt = [avail_f_opt[0]]\n",
    "            y = (sub_df\n",
    "                 .loc[avail_f_opt]\n",
    "                 .sort_values(ascending=False)\n",
    "            )\n",
    "            c = [filter_display_colors[filt_name][d_idx] for filt_name in y.index]\n",
    "            ax.bar(x[0:len(y)], y, color=c)\n",
    "        tick_loc.append(x[0])\n",
    "        tick_label.append(comp_name)\n",
    "        x += 1\n",
    "    ax.set_xticks(tick_loc, tick_label, rotation=90)\n",
    "    ax.set_xlim(-1, tick_loc[-1] + 1)\n",
    "    fig.savefig(save_path)\n"
   ]
  },
  {
   "cell_type": "code",
   "execution_count": null,
   "metadata": {},
   "outputs": [],
   "source": [
    "for name, df in benchmark_table.items():\n",
    "    grp_df = (df\n",
    "        .groupby(['compression option', 'filter option'])\n",
    "        .mean()\n",
    "    )\n",
    "    # ploat compression ratio\n",
    "    bench_param = 'compression ratio'\n",
    "    bench_filter_options = ['none', 'Shuffle', 'BitRound-14', 'BitRound-14-Shuffle']\n",
    "    kwargs = kwargs_list[name][bench_param]\n",
    "    srs = grp_df.loc[:,bench_param]\n",
    "    save_path = f'../figure/view-bench-1-overall-gpu/{name}-{bench_param.split(\"(\")[0].strip()}.svg'\n",
    "    view_compression_ratio(save_path, srs, compression_options, bench_filter_options, filter_display_colors, **kwargs)\n",
    "\n",
    "    # plot throughput\n",
    "    for bench_param in ['compression speed (bytes/sec)', 'decompression speed (bytes/sec)']:\n",
    "        bench_filter_options = ['Shuffle', 'none']\n",
    "        kwargs = kwargs_list[name][bench_param]\n",
    "        srs = grp_df.loc[:,bench_param]\n",
    "        save_path = f'../figure/view-bench-1-overall-gpu/{name}-{bench_param.split('(')[0].strip()}.svg'\n",
    "        view_throughput(save_path, srs, compression_options, bench_filter_options, filter_display_colors, **kwargs)"
   ]
  }
 ],
 "metadata": {
  "kernelspec": {
   "display_name": "12-code (3.12.9)",
   "language": "python",
   "name": "python3"
  },
  "language_info": {
   "codemirror_mode": {
    "name": "ipython",
    "version": 3
   },
   "file_extension": ".py",
   "mimetype": "text/x-python",
   "name": "python",
   "nbconvert_exporter": "python",
   "pygments_lexer": "ipython3",
   "version": "3.12.9"
  }
 },
 "nbformat": 4,
 "nbformat_minor": 2
}
